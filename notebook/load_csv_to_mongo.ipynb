{
 "worksheets": [
  {
   "cells": [
    {
     "cell_type": "code",
     "execution_count": null,
     "metadata": {},
     "outputs": [],
     "input": [
      "import sys\n",
      "import pandas as teddy\n",
      "import pymongo\n",
      "import json\n",
      "REMOTE = 'mongodb://main.dockerapp.tk:27017/'"
     ],
     "language": "python",
     "prompt_number": 1
    },
    {
     "cell_type": "code",
     "execution_count": null,
     "metadata": {},
     "outputs": [],
     "input": [
      "def import_content():\n",
      "    mng_client = pymongo.MongoClient('{}'.format(REMOTE))\n",
      "    mng_db = mng_client['microblog']\n",
      "    collection_name = 'microblog_entries'\n",
      "    db_cm = mng_db[collection_name]\n",
      "\n",
      "    csv_data = teddy.read_csv('/home/clement/Projects/Pyhton/BIGDATA/microblog/data/file/microblogDataset8_COMP6235_CW2.csv', sep=',')\n",
      "    data_json = json.loads(csv_data.to_json(orient='records'))\n",
      "    db_cm.remove()\n",
      "    db_cm.insert(data_json)\n",
      "\n",
      "#\n",
      "import_content()"
     ],
     "language": "python",
     "prompt_number": 2
    },
    {
     "cell_type": "code",
     "execution_count": null,
     "metadata": {},
     "outputs": [],
     "input": [
      "def get_mongodb_data_frame():\n",
      "    mng_client = pymongo.MongoClient('mongodb://localhost:27017/')\n",
      "    mng_db = mng_client['microblog']\n",
      "    collection_name = 'microblog_entries'\n",
      "    input_data = mng_db[collection_name]\n",
      "    df = teddy.DataFrame(list(input_data.find()))\n",
      "    return df"
     ],
     "language": "python"
    }
   ]
  }
 ],
 "cells": [],
 "metadata": {
  "name": "",
  "signature": "sha256:1b43f2e586bb3063d775b0c75e01952f41218c7702912580fd2dbe7ebaff3be0"
 },
 "nbformat": 3,
 "nbformat_minor": 0
}