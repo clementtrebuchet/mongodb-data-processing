{
 "worksheets": [
  {
   "cells": [
    {
     "cell_type": "code",
     "execution_count": null,
     "metadata": {},
     "outputs": [],
     "input": [
      "# coding: utf8\n",
      "import pymongo\n",
      "from pymongo import MongoClient\n",
      "from bson import Code\n",
      "REMOTE = 'mongodb://dockerapp.clementtrebuchet.cloudns.pw:27017/'"
     ],
     "language": "python",
     "prompt_number": 10
    },
    {
     "cell_type": "code",
     "execution_count": null,
     "metadata": {},
     "outputs": [],
     "input": [
      "def client_conn():\n",
      "    \"\"\"\n",
      "    init client to work with mongod insatance\n",
      "    return a MongoClient Object for the microblog document\n",
      "    \"\"\"\n",
      "    mng_client = pymongo.MongoClient('{}'.format(REMOTE))\n",
      "    mng_db = mng_client['microblog']\n",
      "    return mng_db"
     ],
     "language": "python",
     "prompt_number": 2
    },
    {
     "cell_type": "heading",
     "metadata": {},
     "level": 1,
     "source": [
      " 1. How many unique users are there?"
     ]
    },
    {
     "cell_type": "markdown",
     "metadata": {},
     "source": [
      "Create a pipeline via aggregation framework:\n"
     ]
    },
    {
     "cell_type": "code",
     "execution_count": null,
     "metadata": {},
     "outputs": [
      {
       "output_type": "stream",
       "stream": "stdout",
       "text": [
        "Answer : there are 119231 unique id_member in this dataset\n"
       ]
      }
     ],
     "input": [
      "result = client_conn().microblog_entries.aggregate(\n",
      "    [{'$group':\n",
      "          {'_id':'$id_member'}\n",
      "      },\n",
      "     {'$group':\n",
      "          {'_id':1, 'count':\n",
      "              {'$sum':1}\n",
      "           }\n",
      "      }\n",
      "     ]\n",
      ")\n",
      "for item in result:\n",
      "    print('Answer : there are {} unique id_member in this dataset'.format(item['count']))"
     ],
     "language": "python",
     "prompt_number": 3
    },
    {
     "cell_type": "heading",
     "metadata": {},
     "level": 1,
     "source": [
      "2. How many tweets (%) did the top 10 users publish? (measured by the number of messages)"
     ]
    },
    {
     "cell_type": "code",
     "execution_count": null,
     "metadata": {},
     "outputs": [
      {
       "output_type": "stream",
       "stream": "stdout",
       "text": [
        "Top ten users publish\n",
        "\n",
        "User id:1484740038 wrote 9594 messages which represent 0.657185855366 % of the total messages\n"
       ]
      },
      {
       "output_type": "stream",
       "stream": "stdout",
       "text": [
        "\n",
        "User id:497145453 wrote 4792 messages which represent 0.328250429322 % of the total messages\n",
        "\n",
        "User id:1266803563 wrote 4667 messages which represent 0.319687970293 % of the total messages\n",
        "\n",
        "User id:37402072 wrote 2715 messages which represent 0.185976610102 % of the total messages\n",
        "\n",
        "User id:1544159024 wrote 2321 messages which represent 0.158987739244 % of the total messages\n",
        "\n",
        "User id:418909674 wrote 2011 messages which represent 0.137752840853 % of the total messages\n",
        "\n",
        "User id:229045023 wrote 1810 messages which represent 0.123984406735 % of the total messages\n",
        "\n",
        "User id:229940852 wrote 1640 messages which represent 0.112339462456 % of the total messages\n",
        "\n",
        "User id:29035604 wrote 1437 messages which represent 0.0984340289932 % of the total messages\n",
        "\n",
        "User id:-1810401554 wrote 1357 messages which represent 0.0929540552148 % of the total messages\n",
        "\n"
       ]
      }
     ],
     "input": [
      "total_microblog = client_conn().microblog_entries.find().count()\n",
      "pipe = [\n",
      "    {'$group': {\n",
      "        '_id': '$id_member', 'num_tweet': {'$sum': 1},\n",
      "    }},\n",
      "    {'$sort': {\n",
      "        'num_tweet': -1\n",
      "    }},\n",
      "    {'$limit': 10},\n",
      "    {'$project': {'num_tweet': -1,\n",
      "                  'percentage': {\"$multiply\": [{'$divide': [100, total_microblog]}, '$num_tweet']}\n",
      "                  }}]\n",
      "print ('Top ten users publish\\n')\n",
      "for item in client_conn().microblog_entries.aggregate(pipe):\n",
      "    print('User id:{} wrote {} messages which represent {} % of the total messages\\n'.format(str(item['_id']),\n",
      "                                                                                                 item['num_tweet'],\n",
      "                                                                                                 item['percentage']))"
     ],
     "language": "python",
     "prompt_number": 4
    },
    {
     "cell_type": "heading",
     "metadata": {},
     "level": 1,
     "source": [
      "3.       What was the earliest and latest data (YYYY-MM-DD HH:MM:SS) that a message was published?"
     ]
    },
    {
     "cell_type": "code",
     "execution_count": null,
     "metadata": {},
     "outputs": [
      {
       "output_type": "stream",
       "stream": "stdout",
       "text": [
        "user id 35121566 have the earliest 2014-06-22 23:00:02 data\n"
       ]
      }
     ],
     "input": [
      "pipe = [\n",
      "    {'$sort': {'timestamp': -1}},\n",
      "    {'$group': {'_id': '$id_member',\n",
      "                'earliest': {'$first': '$timestamp'}\n",
      "                }\n",
      "     },\n",
      "    {'$limit': 1},\n",
      "]\n",
      "for item in client_conn().microblog_entries.aggregate(pipe, allowDiskUse=True):\n",
      "    print('user id {} have the earliest {} data'.format(item['_id'], item['earliest']))"
     ],
     "language": "python",
     "prompt_number": 5
    },
    {
     "cell_type": "heading",
     "metadata": {},
     "level": 2,
     "source": []
    },
    {
     "cell_type": "code",
     "execution_count": null,
     "metadata": {},
     "outputs": [
      {
       "output_type": "stream",
       "stream": "stdout",
       "text": [
        "user id 938713422 have the latest 2014-06-30 21:59:41 data\n"
       ]
      }
     ],
     "input": [
      "pipe = [\n",
      "    {'$sort': {'timestamp': 1}},\n",
      "    {'$group': {'_id': '$id_member',\n",
      "                'latest':{'$last': '$timestamp'}\n",
      "                }\n",
      "     },\n",
      "    {'$limit': 1},\n",
      "]\n",
      "for item in client_conn().microblog_entries.aggregate(pipe, allowDiskUse=True):\n",
      "    print('user id {} have the latest {} data'.format(item['_id'], item['latest']))"
     ],
     "language": "python",
     "prompt_number": 6
    },
    {
     "cell_type": "heading",
     "metadata": {},
     "level": 1,
     "source": [
      "4.       What is the mean time delta between all messages?"
     ]
    },
    {
     "cell_type": "code",
     "execution_count": null,
     "metadata": {},
     "outputs": [
      {
       "output_type": "stream",
       "stream": "stdout",
       "text": [
        "Total delta for all 7 days, 22:51:18\n",
        "Mean time delta between all messages 5 seconds\n"
       ]
      }
     ],
     "input": [
      "import datetime\n",
      "\n",
      "\n",
      "def get_delta(end, start):\n",
      "    \"\"\"\n",
      "    \n",
      "    :param end: \n",
      "    :param start: \n",
      "    :return: timedelta\n",
      "    \"\"\"\n",
      "    delta = end - start\n",
      "    return delta\n",
      "\n",
      "pipe = [\n",
      "    {'$sort': {'timestamp': -1}},\n",
      "    {'$group': {'_id': '$id_member',\n",
      "                'diff': {'$first': '$timestamp'}\n",
      "                }\n",
      "     },]\n",
      "m_diff = []\n",
      "for item in client_conn().microblog_entries.aggregate(pipe, allowDiskUse=True):\n",
      "    d = datetime.datetime.strptime('{0}'.format(item['diff']), '%Y-%m-%d %H:%M:%S')\n",
      "    m_diff.append(d)\n",
      "m_res = []\n",
      "i = 0\n",
      "for d in m_diff:\n",
      "    try:\n",
      "        j = i + 1\n",
      "        m_res.append(get_delta(m_diff[j], d))\n",
      "        i += 1\n",
      "    except IndexError as e:\n",
      "        pass\n",
      "dd = datetime.timedelta()\n",
      "for d in m_res:\n",
      "    dd += d \n",
      "\n",
      "print('Total delta for all {}'.format(dd))\n",
      "print ('Mean time delta between all messages {} seconds'.format(int(dd.total_seconds()) / len(m_res)))"
     ],
     "language": "python",
     "prompt_number": 7
    },
    {
     "cell_type": "heading",
     "metadata": {},
     "level": 1,
     "source": [
      "5.       What is the mean length of a message?"
     ]
    },
    {
     "cell_type": "code",
     "execution_count": null,
     "metadata": {},
     "outputs": [
      {
       "output_type": "stream",
       "stream": "stdout",
       "text": [
        "Mean length of a message 11.58 words\n"
       ]
      }
     ],
     "input": [
      "def get_mean_length_messages():\n",
      "    \"\"\"\n",
      "\n",
      "    :return:\n",
      "    \"\"\"\n",
      "    from bson import Code\n",
      "    \"\"\"\n",
      "    mean length of a message in number of words = ((sum every_word in field text) for each document) / total_entries\n",
      "    get and work on (gonna reuse it for multiple purpose)\n",
      "    Collection(Database(MongoClient(host=['dockerapp.clementtrebuchet.cloudns.pw:27017'], document_class=dict, tz_aware=False, connect=True), u'microblog'), u'myres')\n",
      "    {u'_id': u'!', u'value': {u'count': 1.0}}\n",
      "    {u'_id': u'#Audi', u'value': {u'count': 1.0}}\n",
      "    {u'_id': u'#Automobile', u'value': {u'count': 1.0}}\n",
      "    {u'_id': u'#Car', u'value': {u'count': 1.0}}\n",
      "    {u'_id': u'#Cleeve', u'value': {u'count': 1.0}}\n",
      "    {u'_id': u'#Fresh', u'value': {u'count': 1.0}}\n",
      "    {u'_id': u'#KeepSafe', u'value': {u'count': 1.0}}\n",
      "    {u'_id': u'#London', u'value': {u'count': 1.0}}\n",
      "    {u'_id': u'#ModballRally', u'value': {u'count': 1.0}}\n",
      "    \"\"\"\n",
      "    total_microblog = client_conn().microblog_entries.find().count()\n",
      "    \n",
      "    # mapper and reducer javascript functions\n",
      "    mapper = \"\"\"\n",
      "                function() {\n",
      "                try {\n",
      "                        this.text.split(\" \").forEach(function(word){\n",
      "                            if(word && word.length )\n",
      "                                emit(word, {'count':1});\n",
      "                        } );\n",
      "                    }\n",
      "                    catch(err) {\n",
      "                        print(err)\n",
      "                    }\n",
      "                }\n",
      "                \"\"\"\n",
      "    reducer = \"\"\"\n",
      "            function(key, value) {\n",
      "                var total = 0;\n",
      "                for(var i = 0 ; i < value.length ; ++i ) {\n",
      "                    total += value[i].count;\n",
      "                }\n",
      "                return {'count':total};\n",
      "            }\n",
      "            \"\"\"\n",
      "    results = client_conn().microblog_entries.map_reduce(Code(mapper), Code(reducer), 'myres', full_response=False)\n",
      "    # limit=100 because i don't have a big infra :(\n",
      "    m_doc = {}\n",
      "    for doc in results.find():\n",
      "        try:\n",
      "            m_count = int(m_doc[u'{}'.format(doc['_id'])])\n",
      "            m_add = doc['value']['count']\n",
      "            m_count += int(m_doc['{}'.format(m_add)])\n",
      "        except KeyError as e:\n",
      "            m_doc[u'{}'.format(doc['_id'])] = int(doc['value']['count'])\n",
      "\n",
      "    total_document_words = 0\n",
      "    for k, v in m_doc.items():\n",
      "        total_document_words += v\n",
      "\n",
      "    result = float(total_document_words) / float(total_microblog)\n",
      "    print('Mean length of a message {:.2f} words'.format(result))\n",
      "\n",
      "# call    \n",
      "get_mean_length_messages()"
     ],
     "language": "python",
     "prompt_number": 8
    },
    {
     "cell_type": "heading",
     "metadata": {},
     "level": 1,
     "source": [
      "6.       What are the 10 most common unigram and bigram strings within the messages?"
     ]
    },
    {
     "cell_type": "code",
     "execution_count": null,
     "metadata": {},
     "outputs": [
      {
       "output_type": "stream",
       "stream": "stdout",
       "text": [
        "unigram e occurrence 7884626\n",
        "unigram t occurrence 6439016\n",
        "unigram o occurrence 6155676\n",
        "unigram a occurrence 6011301\n",
        "unigram n occurrence 4818618\n",
        "unigram i occurrence 4683253\n",
        "unigram s occurrence 4230454\n",
        "unigram r occurrence 4013723\n",
        "unigram h occurrence 3550024\n",
        "unigram l occurrence 3428344\n"
       ]
      }
     ],
     "input": [
      "def get_ten_most_common_u_gram():\n",
      "    \"\"\"\n",
      "    \n",
      "    :return:\n",
      "    \"\"\"\n",
      "\n",
      "    mapper = \"\"\"\n",
      "                function() {\n",
      "                try {\n",
      "                        this.text.split(\" \").forEach(function(word){\n",
      "                            if(word && word.length )\n",
      "                                for (var i = 0; i < word.length; i++) {\n",
      "                                       emit(word.charAt(i), 1);\n",
      "                                }\n",
      "\n",
      "                        } );\n",
      "                    }\n",
      "                    catch(err) {\n",
      "                        print(err)\n",
      "                    }\n",
      "                }\n",
      "                \"\"\"\n",
      "    reducer = \"\"\"\n",
      "            function(key, value) {\n",
      "                var total = 0;\n",
      "                value.forEach(function(v){\n",
      "                    total += v\n",
      "                });\n",
      "                    return total\n",
      "                }\n",
      "\n",
      "\n",
      "            \"\"\"\n",
      "    results = client_conn().microblog_entries.map_reduce(Code(mapper), Code(reducer), 'myres', full_response=False)\n",
      "    m_doc = {}\n",
      "    for doc in results.find():\n",
      "        # print doc\n",
      "        try:\n",
      "            count = m_doc[u'{}'.format('_id')]\n",
      "            m_doc[u'{}'.format('_id')] = count + int(doc['value'])\n",
      "        except KeyError as e:\n",
      "            m_doc[u'{}'.format(doc['_id'])] = int(doc['value'])\n",
      "\n",
      "    sorted_m_doc = sorted(m_doc.items(), key=lambda x: x[1], reverse=True)\n",
      "    for m_tup in sorted_m_doc[:10]:\n",
      "        print(u'unigram {} occurrence {}'.format(m_tup[0], m_tup[1]))\n",
      "        \n",
      "        \n",
      "get_ten_most_common_u_gram()"
     ],
     "language": "python",
     "prompt_number": 11
    },
    {
     "cell_type": "code",
     "execution_count": null,
     "metadata": {},
     "outputs": [
      {
       "output_type": "stream",
       "stream": "stdout",
       "text": [
        "bigram th occurrences 930966\n",
        "bigram to occurrences 507521\n",
        "bigram in occurrences 487311\n",
        "bigram co occurrences 405691\n",
        "bigram an occurrences 369792\n",
        "bigram ht occurrences 320324\n",
        "bigram on occurrences 317027\n",
        "bigram re occurrences 310204\n",
        "bigram ha occurrences 276139\n",
        "bigram ð occurrences 269686\n"
       ]
      }
     ],
     "input": [
      "def get_ten_most_common_bi_gram():\n",
      "\n",
      "    mapper = \"\"\"\n",
      "                function() {\n",
      "                try {\n",
      "                        this.text.split(\" \").forEach(function(word){\n",
      "                            if(word && word.length )\n",
      "                                for (var i = 0; i < word.length; i++) {\n",
      "                                       var tmp = word.charAt(i) + word.charAt(i+1);\n",
      "                                       if(tmp.length < 2){\n",
      "                                            continue;\n",
      "                                       }\n",
      "                                       else {\n",
      "                                           emit(tmp, 1);\n",
      "                                           i += 2;\n",
      "                                       }\n",
      "                                }\n",
      "\n",
      "                        } );\n",
      "                    }\n",
      "                    catch(err) {\n",
      "                        print(err)\n",
      "                    }\n",
      "                }\n",
      "                \"\"\"\n",
      "    reducer = \"\"\"\n",
      "            function(key, value) {\n",
      "                var total = 0;\n",
      "                value.forEach(function(v){\n",
      "                    total += v\n",
      "                });\n",
      "                    return total\n",
      "                }\n",
      "\n",
      "\n",
      "            \"\"\"\n",
      "    results = client_conn().microblog_entries.map_reduce(Code(mapper), Code(reducer), 'myres', full_response=False)\n",
      "    m_doc = {}\n",
      "    for doc in results.find():\n",
      "        try:\n",
      "            count = m_doc[u'{}'.format('_id')]\n",
      "            m_doc[u'{}'.format('_id')] = count + int(doc['value'])\n",
      "        except KeyError as e:\n",
      "            m_doc[u'{}'.format(doc['_id'])] = int(doc['value'])\n",
      "\n",
      "    sorted_m_doc = sorted(m_doc.items(), key=lambda x: x[1], reverse=True)\n",
      "    for m_tup in sorted_m_doc[:10]:\n",
      "        print(u'bigram {} occurrences {}'.format(m_tup[0], m_tup[1]))\n",
      "        \n",
      "get_ten_most_common_bi_gram()"
     ],
     "language": "python",
     "prompt_number": 12
    },
    {
     "cell_type": "heading",
     "metadata": {},
     "level": 1,
     "source": [
      "7.       What is the average number of hashtags(#) used within a message?"
     ]
    },
    {
     "cell_type": "code",
     "execution_count": null,
     "metadata": {},
     "outputs": [
      {
       "output_type": "stream",
       "stream": "stdout",
       "text": [
        "Average number of hashtags(#) used within a message : 1.38\n",
        "Total hashtags(#) in collections : 2010092\n",
        "Total messages in collections : 1459861\n"
       ]
      }
     ],
     "input": [
      "def get_hash_tag_avg():\n",
      "    \"\"\"\n",
      "    \n",
      "    :return:\n",
      "    \"\"\"\n",
      "    total_microblog = client_conn().microblog_entries.find().count()\n",
      "    mapper = \"\"\"\n",
      "                function() {\n",
      "                try {\n",
      "                        var re = /#/g;\n",
      "                        count = 0;\n",
      "                        this.text.split(\" \").forEach(function(word){\n",
      "                            if(word && word.length ){\n",
      "                               while (re.exec(word) !== null) {\n",
      "                                        ++count;\n",
      "                               }\n",
      "                               emit('#', count);\n",
      "                            }\n",
      "                        });\n",
      "                    }\n",
      "                    catch(err) {\n",
      "                        print(err);\n",
      "                    }\n",
      "                }\n",
      "                \"\"\"\n",
      "    reducer = \"\"\"\n",
      "            function(key, value) {\n",
      "                var total = 0;\n",
      "                value.forEach(function(v){\n",
      "                    total += v;\n",
      "                });\n",
      "                    return total;\n",
      "                }\n",
      "\n",
      "\n",
      "            \"\"\"\n",
      "    results = client_conn().microblog_entries.map_reduce(Code(mapper), Code(reducer), 'myres', full_response=False)\n",
      "    for doc in results.find():\n",
      "        avg = float(doc['value']) / float(total_microblog)\n",
      "        print(u'Average number of hashtags({}) used within a message : {:.2f}'.format(doc['_id'], avg))\n",
      "        print(u'Total hashtags({}) in collections : {}'.format(doc['_id'], int(doc['value'])))\n",
      "        print(u'Total messages in collections : {}'.format(int(total_microblog)))\n",
      "        \n",
      "\n",
      "get_hash_tag_avg()"
     ],
     "language": "python",
     "prompt_number": 13
    },
    {
     "cell_type": "heading",
     "metadata": {},
     "level": 1,
     "source": [
      "8.       Which area within the UK contains the largest number of published messages? (In this case geographic latitude and longitude coordinates  can be aggregated"
     ]
    },
    {
     "cell_type": "code",
     "execution_count": null,
     "metadata": {},
     "outputs": [],
     "input": [
      "from bson import Code\n",
      "\n",
      "\n",
      "def geo_collection():\n",
      "    \"\"\"\n",
      "    Needs to construct Geo index from a GeoJSON syntax like \n",
      "    New collection aggregate geo_lng, geo_lat\n",
      "    each entry count for one message\n",
      "    \"_id\" : ObjectId(\"56622bfe4c2b827f289c0354\"),\n",
      "        \"value\" : {\n",
      "                \"type\" : \"Point\",\n",
      "                \"coordinates\" : [\n",
      "                        -0.451811,\n",
      "                        51.890106\n",
      "                ]\n",
      "    \n",
      "    > db.microblog.microgeo.find()\n",
      "{ \"_id\" : ObjectId(\"56622bfe4c2b827f289c0352\"), \"value\" : { \"type\" : \"Point\", \"coordinates\" : [ -3.2, 53.2 ] } }\n",
      "{ \"_id\" : ObjectId(\"56622bfe4c2b827f289c0353\"), \"value\" : { \"type\" : \"Point\", \"coordinates\" : [ -0.406613, 51.694806 ] } }\n",
      "{ \"_id\" : ObjectId(\"56622bfe4c2b827f289c0354\"), \"value\" : { \"type\" : \"Point\", \"coordinates\" : [ -0.451811, 51.890106 ] } }\n",
      "{ \"_id\" : ObjectId(\"56622bfe4c2b827f289c0355\"), \"value\" : { \"type\" : \"Point\", \"coordinates\" : [ -3.118333, 53.406389 ] } }\n",
      "{ \"_id\" : ObjectId(\"56622bfe4c2b827f289c0356\"), \"value\" : { \"type\" : \"Point\", \"coordinates\" : [ 0.9802794, 52.7045575 ] } }\n",
      "{ \"_id\" : ObjectId(\"56622bfe4c2b827f289c0357\"), \"value\" : { \"type\" : \"Point\", \"coordinates\" : [ -2.88424, 54.0633 ] } }\n",
      "{ \"_id\" : ObjectId(\"56622bfe4c2b827f289c0358\"), \"value\" : { \"type\" : \"Point\", \"coordinates\" : [ 0.7077123, 51.5459269 ] } }\n",
      "{ \"_id\" : ObjectId(\"56622bfe4c2b827f289c0359\"), \"value\" : { \"type\" : \"Point\", \"coordinates\" : [ 0.056197, 51.50113 ] } }\n",
      "{ \"_id\" : ObjectId(\"56622bfe4c2b827f289c035a\"), \"value\" : { \"type\" : \"Point\", \"coordinates\" : [ 1.236667, 52.593611 ] } }\n",
      "{ \"_id\" : ObjectId(\"56622bfe4c2b827f289c035b\"), \"value\" : { \"type\" : \"Point\", \"coordinates\" : [ 0.706515, 51.582071 ] } }\n",
      "{ \"_id\" : ObjectId(\"56622bfe4c2b827f289c035c\"), \"value\" : { \"type\" : \"Point\", \"coordinates\" : [ -5.934357, 54.583774 ] } }\n",
      "{ \"_id\" : ObjectId(\"56622bfe4c2b827f289c035d\"), \"value\" : { \"type\" : \"Point\", \"coordinates\" : [ -0.221296, 51.390072 ] } }\n",
      "{ \"_id\" : ObjectId(\"56622bfe4c2b827f289c035e\"), \"value\" : { \"type\" : \"Point\", \"coordinates\" : [ -2.06916667, 51.94805556 ] } }\n",
      "{ \"_id\" : ObjectId(\"56622bfe4c2b827f289c035f\"), \"value\" : { \"type\" : \"Point\", \"coordinates\" : [ -1.544167, 52.914167 ] } }\n",
      "{ \"_id\" : ObjectId(\"56622bfe4c2b827f289c0360\"), \"value\" : { \"type\" : \"Point\", \"coordinates\" : [ -1.544167, 52.914167 ] } }\n",
      "{ \"_id\" : ObjectId(\"56622bfe4c2b827f289c0361\"), \"value\" : { \"type\" : \"Point\", \"coordinates\" : [ -0.090625, 51.473857 ] } }\n",
      "{ \"_id\" : ObjectId(\"56622bfe4c2b827f289c0362\"), \"value\" : { \"type\" : \"Point\", \"coordinates\" : [ 1.419895, 51.335545 ] } }\n",
      "{ \"_id\" : ObjectId(\"56622bfe4c2b827f289c0363\"), \"value\" : { \"type\" : \"Point\", \"coordinates\" : [ -1.516987, 52.925326 ] } }\n",
      "{ \"_id\" : ObjectId(\"56622bfe4c2b827f289c0364\"), \"value\" : { \"type\" : \"Point\", \"coordinates\" : [ -2.30111111, 53.05527778 ] } }\n",
      "{ \"_id\" : ObjectId(\"56622bfe4c2b827f289c0365\"), \"value\" : { \"type\" : \"Point\", \"coordinates\" : [ -0.306996, 51.4405145 ] } }\n",
      "Type \"it\" for more\n",
      "> db.microblog.microgeo.find().count()\n",
      "1459861\n",
      " db.microblog.microgeo.createIndex({ value :'2dsphere' })\n",
      "{\n",
      "        \"createdCollectionAutomatically\" : false,\n",
      "        \"numIndexesBefore\" : 1,\n",
      "        \"numIndexesAfter\" : 2,\n",
      "        \"ok\" : 1\n",
      "}\n",
      "\n",
      "> db.microblog.microgeo.find({'value':{$near:{$geometry:{ type:'Point', coordinates:[-0.306996,51.4405145]},$maxDistance: 1}}});\n",
      "{ \"_id\" : ObjectId(\"566236984c2b827f28b0dcec\"), \"value\" : { \"type\" : \"Point\", \"coordinates\" : [ -0.306996, 51.4405145 ] } }\n",
      "{ \"_id\" : ObjectId(\"5662369a4c2b827f28b0e1b5\"), \"value\" : { \"type\" : \"Point\", \"coordinates\" : [ -0.306996, 51.4405145 ] } }\n",
      "{ \"_id\" : ObjectId(\"566236a24c2b827f28b0f22f\"), \"value\" : { \"type\" : \"Point\", \"coordinates\" : [ -0.306996, 51.4405145 ] } }\n",
      "{ \"_id\" : ObjectId(\"566236a94c2b827f28b0fff5\"), \"value\" : { \"type\" : \"Point\", \"coordinates\" : [ -0.306996, 51.4405145 ] } }\n",
      "{ \"_id\" : ObjectId(\"566236ce4c2b827f28b14aab\"), \"value\" : { \"type\" : \"Point\", \"coordinates\" : [ -0.306996, 51.4405145 ] } }\n",
      "{ \"_id\" : ObjectId(\"566237164c2b827f28b1d976\"), \"value\" : { \"type\" : \"Point\", \"coordinates\" : [ -0.306996, 51.4405145 ] } }\n",
      "{ \"_id\" : ObjectId(\"56622cb54c2b827f289d6856\"), \"value\" : { \"type\" : \"Point\", \"coordinates\" : [ -0.306996, 51.4405145 ] } }\n",
      "{ \"_id\" : ObjectId(\"56622f444c2b827f28a26aaa\"), \"value\" : { \"type\" : \"Point\", \"coordinates\" : [ -0.306996, 51.4405145 ] } }\n",
      "{ \"_id\" : ObjectId(\"5662335c4c2b827f28aa69f9\"), \"value\" : { \"type\" : \"Point\", \"coordinates\" : [ -0.306996, 51.4405145 ] } }\n",
      "\n",
      "> db.microblog.microgeo.find({'value':{$near:{$geometry:{ type:'Point', coordinates:[-0.306996,51.4405145]},$maxDistance: 1}}}).count();\n",
      "784\n",
      "\n",
      "\n",
      "    :return:collection ready for a db.microblog.microgeo.createIndex({ value :'2dsphere' })\n",
      "    \"\"\"\n",
      "    mapper = \"\"\"\n",
      "                function() {\n",
      "                try {\n",
      "                      emit(this._id, {\n",
      "                      type: 'Point',\n",
      "                      coordinates: [parseFloat(this.geo_lng), parseFloat(this.geo_lat)]\n",
      "                      });\n",
      "                    }\n",
      "                    catch(err) {\n",
      "                        print(err)\n",
      "                    }\n",
      "                }\n",
      "                \"\"\"\n",
      "    reducer = \"\"\"\n",
      "            function(key, value) {\n",
      "                return value;\n",
      "            }\n",
      "            \"\"\"\n",
      "    client_conn().microblog_entries.map_reduce(Code(mapper), Code(reducer), out='microblog.microgeo', full_response=False)"
     ],
     "language": "python",
     "prompt_number": 14
    },
    {
     "cell_type": "code",
     "execution_count": null,
     "metadata": {},
     "outputs": [
      {
       "output_type": "stream",
       "stream": "stdout",
       "text": [
        "SCOTLAND area have above 5087 published messages\n",
        "ENGLAND area have above 1083967 published messages"
       ]
      },
      {
       "output_type": "stream",
       "stream": "stdout",
       "text": [
        "\n",
        "IRELAND area have above 21159 published messages"
       ]
      },
      {
       "output_type": "stream",
       "stream": "stdout",
       "text": [
        "\n"
       ]
      }
     ],
     "input": [
      "def get_most_message_by_area():\n",
      "    \"\"\"\n",
      "    say with out any other precisions that we have three area in England\n",
      "    Made three quick polygon (approx.) http://www.birdtheme.org/useful/v3tool.html\n",
      "    SCOTLAND:                                                                                       [[-5.009766,58.608334],\n",
      "                                                                                                    [-5.668945, 55.329144],\n",
      "                                                                                                    [-1.845703, 57.586559],\n",
      "                                                                                                    [-5.009766,58.608334]]\n",
      "                                                                                                    \n",
      "    ENGLAND:                                                                                        [[-5.668945, 50.176898],\n",
      "                                                                                                    [-1.230469, 54.597528],\n",
      "                                                                                                    [2.988281, 51.563412],\n",
      "                                                                                                    [-5.668945, 50.176898]]\n",
      "                                                                                                    \n",
      "                                                                                                    \n",
      "    IRELAND:                                                                                        [[-7.734375, 56.047500],\n",
      "                                                                                                    [-14.809570, 50.625073],\n",
      "                                                                                                    [-3.823242, 53.435719],\n",
      "                                                                                                    [-7.734375, 56.047500]]\n",
      "\n",
      "    :return:\n",
      "    \"\"\"\n",
      "    # SCOTLAND\n",
      "    SCOTLAND = client_conn().microblog.microgeo.find({'value': {'$geoWithin': {'$geometry': {'type': 'Polygon',\n",
      "                                                                                              'coordinates':\n",
      "                                                                                                  [[[-5.009766,58.608334],\n",
      "                                                                                                    [-5.668945, 55.329144],\n",
      "                                                                                                    [-1.845703, 57.586559],\n",
      "                                                                                                    [-5.009766,58.608334]]]}}}}).count()\n",
      "    print('SCOTLAND area have above {} published messages'.format(SCOTLAND))\n",
      "\n",
      "     # ENGLAND\n",
      "    ENGLAND = client_conn().microblog.microgeo.find({'value': {'$geoWithin': {'$geometry': {'type': 'Polygon',\n",
      "                                                                                              'coordinates':\n",
      "                                                                                                  [[[-5.668945, 50.176898],\n",
      "                                                                                                    [-1.230469, 54.597528],\n",
      "                                                                                                    [2.988281, 51.563412],\n",
      "                                                                                                    [-5.668945, 50.176898]]]}}}}).count()\n",
      "    print('ENGLAND area have above {} published messages'.format(ENGLAND))\n",
      "\n",
      "    # IRELAND\n",
      "    IRELAND = client_conn().microblog.microgeo.find({'value': {'$geoWithin': {'$geometry': {'type': 'Polygon',\n",
      "                                                                                              'coordinates':\n",
      "                                                                                                  [[[-7.734375, 56.047500],\n",
      "                                                                                                    [-14.809570, 50.625073],\n",
      "                                                                                                    [-3.823242, 53.435719],\n",
      "                                                                                                    [-7.734375, 56.047500]]]}}}}).count()\n",
      "    print('IRELAND area have above {} published messages'.format(IRELAND))\n",
      "\n",
      "get_most_message_by_area()"
     ],
     "language": "python",
     "prompt_number": 15
    },
    {
     "cell_type": "code",
     "execution_count": null,
     "metadata": {},
     "outputs": [],
     "input": [
      ""
     ],
     "language": "python"
    }
   ]
  }
 ],
 "cells": [],
 "metadata": {
  "name": "",
  "signature": "sha256:e5b6764a1c472af225f16d90360d08a73c427e63bebdee7093278835a2abc2da"
 },
 "nbformat": 3,
 "nbformat_minor": 0
}