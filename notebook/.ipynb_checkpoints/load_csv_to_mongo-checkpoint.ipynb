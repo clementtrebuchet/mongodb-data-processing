{
 "metadata": {
  "name": "",
  "signature": "sha256:1b43f2e586bb3063d775b0c75e01952f41218c7702912580fd2dbe7ebaff3be0"
 },
 "nbformat": 3,
 "nbformat_minor": 0,
 "worksheets": [
  {
   "cells": [
    {
     "cell_type": "code",
     "collapsed": false,
     "input": [
      "import sys\n",
      "import pandas as teddy\n",
      "import pymongo\n",
      "import json"
     ],
     "language": "python",
     "metadata": {},
     "outputs": [],
     "prompt_number": 1
    },
    {
     "cell_type": "code",
     "collapsed": false,
     "input": [
      "def import_content():\n",
      "    mng_client = pymongo.MongoClient('mongodb://localhost:27017/')\n",
      "    mng_db = mng_client['microblog']\n",
      "    collection_name = 'microblog_entries'\n",
      "    db_cm = mng_db[collection_name]\n",
      "\n",
      "    csv_data = teddy.read_csv('../data/file/microblogDataset_COMP6235_CW2.csv', sep=',')\n",
      "    data_json = json.loads(csv_data.to_json(orient='records'))\n",
      "    db_cm.remove()\n",
      "    db_cm.insert(data_json)\n",
      "\n",
      "#\n",
      "import_content()"
     ],
     "language": "python",
     "metadata": {},
     "outputs": []
    },
    {
     "cell_type": "code",
     "collapsed": false,
     "input": [],
     "language": "python",
     "metadata": {},
     "outputs": []
    }
   ],
   "metadata": {}
  }
 ]
}