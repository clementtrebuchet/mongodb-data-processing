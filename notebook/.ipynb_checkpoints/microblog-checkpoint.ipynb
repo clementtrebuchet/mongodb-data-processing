{
 "metadata": {
  "name": "",
  "signature": "sha256:dd5a7297771af376323a7af1b0c4c9bd8834e49d986d5224879d1c609c5d16a0"
 },
 "nbformat": 3,
 "nbformat_minor": 0,
 "worksheets": [
  {
   "cells": [
    {
     "cell_type": "code",
     "collapsed": false,
     "input": [
      "import pandas as teddy\n",
      "import pymongo\n",
      "from pymongo import MongoClient"
     ],
     "language": "python",
     "metadata": {},
     "outputs": [],
     "prompt_number": 1
    },
    {
     "cell_type": "code",
     "collapsed": false,
     "input": [
      "df = teddy.read_csv('../data/file/microblogDataset_COMP6235_CW2.csv', sep=',', index_col=False, parse_dates=True, header=0)\n",
      "# print df.groupby('id_member').count().sort_values(by='id', ascending=False)\n",
      "# unique id_members\n",
      "print list(set(df['id_member']))"
     ],
     "language": "python",
     "metadata": {},
     "outputs": []
    },
    {
     "cell_type": "code",
     "collapsed": false,
     "input": [
      "def client_conn():\n",
      "    \"\"\"\n",
      "    init client to work with mongod insatance\n",
      "    return a MongoClient Object\n",
      "    \"\"\"\n",
      "    client = MongoClient('mongodb://localhost:27017/')\n",
      "    return client\n",
      "\n",
      "client_conn()"
     ],
     "language": "python",
     "metadata": {},
     "outputs": [
      {
       "metadata": {},
       "output_type": "pyout",
       "prompt_number": 40,
       "text": [
        "MongoClient(host=['localhost:27017'], document_class=dict, tz_aware=False, connect=True)"
       ]
      }
     ],
     "prompt_number": 40
    },
    {
     "cell_type": "code",
     "collapsed": false,
     "input": [],
     "language": "python",
     "metadata": {},
     "outputs": []
    }
   ],
   "metadata": {}
  }
 ]
}